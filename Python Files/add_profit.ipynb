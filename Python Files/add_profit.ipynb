{
 "cells": [
  {
   "cell_type": "code",
   "execution_count": 13,
   "metadata": {},
   "outputs": [
    {
     "name": "stdout",
     "output_type": "stream",
     "text": [
      "New CSV file with profit column saved as 'gold_recovery_full_with_profit.csv'\n"
     ]
    }
   ],
   "source": [
    "import pandas as pd\n",
    "\n",
    "# Load the gold recovery dataset\n",
    "df_gold = pd.read_csv('../Dataset/gold_recovery_full.csv', parse_dates=['date'])\n",
    "\n",
    "# Load the refined gold price dataset\n",
    "df_price = pd.read_csv('../Dataset/Refined Gold Futures Historical Data.csv', parse_dates=['Date'])\n",
    "\n",
    "# 2. Rename columns for consistency\n",
    "df_price.rename(columns={'Date': 'date', 'Price': 'Close'}, inplace=True)\n",
    "\n",
    "# 3. Convert both date columns to date-only (dropping the time component)\n",
    "df_gold['date'] = df_gold['date'].dt.date\n",
    "df_price['date'] = df_price['date'].dt.date\n",
    "\n",
    "# 4. Reindex the price data to cover every day within the gold data's range and forward-fill missing prices\n",
    "# Convert df_price 'date' back to datetime for reindexing\n",
    "df_price['date'] = pd.to_datetime(df_price['date'])\n",
    "df_price.set_index('date', inplace=True)\n",
    "\n",
    "# Create a full date range from the min to max date in the gold dataset\n",
    "full_date_range = pd.date_range(start=df_gold['date'].min(), end=df_gold['date'].max(), freq='D')\n",
    "\n",
    "# Reindex the price DataFrame to include every day in the range\n",
    "df_price = df_price.reindex(full_date_range)\n",
    "\n",
    "# Forward-fill missing price values (i.e., weekends/holidays)\n",
    "df_price = df_price.ffill()\n",
    "\n",
    "# Reset the index so that 'date' becomes a column again, and convert it to date-only\n",
    "df_price.reset_index(inplace=True)\n",
    "df_price.rename(columns={'index': 'date'}, inplace=True)\n",
    "df_price['date'] = df_price['date'].dt.date\n",
    "\n",
    "# 5. Merge the two datasets on the 'date' column (left join to keep all gold recovery rows)\n",
    "df_merged = pd.merge(df_gold, df_price[['date', 'Close']], on='date', how='left')\n",
    "\n",
    "# Calculate profit: final.output.concentrate_au * gold price\n",
    "df_merged['profit'] = df_merged['final.output.concentrate_au'] * df_merged['Close']\n",
    "\n",
    "# 6. Save the resulting DataFrame to a new CSV file\n",
    "df_merged.to_csv('gold_recovery_full_with_profit.csv', index=False)\n",
    "print(\"New CSV file with profit column saved as 'gold_recovery_full_with_profit.csv'\")\n",
    "\n"
   ]
  },
  {
   "cell_type": "code",
   "execution_count": 4,
   "metadata": {},
   "outputs": [
    {
     "name": "stdout",
     "output_type": "stream",
     "text": [
      "Price dataset columns: Index(['date', 'Price', 'Open', 'High', 'Low', 'Vol.', 'Change %'], dtype='object')\n"
     ]
    }
   ],
   "source": [
    "print(\"Price dataset columns:\", df_price.columns)\n"
   ]
  },
  {
   "cell_type": "code",
   "execution_count": 12,
   "metadata": {},
   "outputs": [
    {
     "name": "stdout",
     "output_type": "stream",
     "text": [
      "Min/Max in gold data: 2016-01-15 2018-08-18\n",
      "Min/Max in price data: 2016-01-04 2018-12-31\n",
      "Unique days in gold data: 947\n",
      "Unique days in price data: 755\n",
      "Number of overlapping days: 656\n"
     ]
    }
   ],
   "source": [
    "import pandas as pd\n",
    "\n",
    "# Load each dataset (the same way you did before)\n",
    "df_gold = pd.read_csv('../Dataset/gold_recovery_full.csv', parse_dates=['date'])\n",
    "df_price = pd.read_csv('../Dataset/Refined Gold Futures Historical Data.csv', parse_dates=['Date'])\n",
    "\n",
    "# Rename columns for consistency\n",
    "df_price.rename(columns={'Date': 'date', 'Price': 'Close'}, inplace=True)\n",
    "\n",
    "# Convert both to date (dropping the time part)\n",
    "df_gold['date'] = df_gold['date'].dt.date\n",
    "df_price['date'] = df_price['date'].apply(lambda x: x.date())\n",
    "\n",
    "print(\"Min/Max in gold data:\", df_gold['date'].min(), df_gold['date'].max())\n",
    "print(\"Min/Max in price data:\", df_price['date'].min(), df_price['date'].max())\n",
    "\n",
    "print(\"Unique days in gold data:\", df_gold['date'].nunique())\n",
    "print(\"Unique days in price data:\", df_price['date'].nunique())\n",
    "\n",
    "common_dates = set(df_gold['date']).intersection(set(df_price['date']))\n",
    "print(\"Number of overlapping days:\", len(common_dates))\n"
   ]
  }
 ],
 "metadata": {
  "kernelspec": {
   "display_name": "Python 3",
   "language": "python",
   "name": "python3"
  },
  "language_info": {
   "codemirror_mode": {
    "name": "ipython",
    "version": 3
   },
   "file_extension": ".py",
   "mimetype": "text/x-python",
   "name": "python",
   "nbconvert_exporter": "python",
   "pygments_lexer": "ipython3",
   "version": "3.11.4"
  }
 },
 "nbformat": 4,
 "nbformat_minor": 2
}
